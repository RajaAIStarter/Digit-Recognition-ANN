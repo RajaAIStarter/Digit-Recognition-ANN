{
  "cells": [
    {
      "cell_type": "markdown",
      "source": [
        "\n",
        "# Handwritten Digit Recognition\n",
        "\n",
        "## Dataset Overview\n",
        "\n",
        "The project utilizes the Digit MNIST dataset, which consists of more than 60,000 training images and 10,000 testing images. Each image represents a handwritten digit from 0 to 9.\n",
        "\n",
        "For this implementation, 12,000 images have been extracted from the MNIST dataset for training and testing purposes. The dataset contains 10 different classes representing the digits 0-9.\n",
        "\n",
        "## Model Architecture\n",
        "\n",
        "The Handwritten Digit Recognition Model has been implemented using a Neural Network with the following layers:\n",
        "\n",
        "- **Input Layer**: Accepts the pixel values of the images.\n",
        "- **Hidden Layers**:\n",
        "  - ReLU (Rectified Linear Unit) for activation.\n",
        "- **Output Layer**:\n",
        "  - Softmax for classifying digits into 10 categories.\n",
        "\n",
        "## Implementation Details\n",
        "\n",
        "- The model is trained using TensorFlow/Keras.\n",
        "- The dataset is preprocessed by normalizing pixel values.\n",
        "- The model's performance is evaluated using accuracy metrics.\n",
        "\n",
        "## Usage Instructions\n",
        "\n",
        "1. Load the dataset using `digit_mnist.load_data()`.\n",
        "2. Preprocess the data by reshaping and normalizing it.\n",
        "3. Define and compile the neural network model.\n",
        "4. Train the model using the training dataset.\n",
        "5. Evaluate the model using the test dataset.\n",
        "\n",
        "## Results\n",
        "\n",
        "The model achieves high accuracy in recognizing handwritten digits. Performance can be improved by tuning hyperparameters, increasing training epochs, or using convolutional neural networks (CNNs).\n",
        "\n",
        "## Future Improvements\n",
        "\n",
        "- Implementing CNNs for better accuracy.\n",
        "- Exploring data augmentation techniques.\n",
        "- Using transfer learning for improved performance.\n"
      ],
      "metadata": {
        "id": "eG0u_8K2ihNn"
      }
    },
    {
      "cell_type": "code",
      "source": [
        "!pip install tensorflow\n",
        "import tensorflow as tf"
      ],
      "metadata": {
        "id": "kuq5pHc40un8"
      },
      "execution_count": null,
      "outputs": []
    },
    {
      "cell_type": "code",
      "source": [
        "import numpy as np\n",
        "import matplotlib.pyplot as plt\n",
        "from tensorflow.keras.models import Sequential\n",
        "from tensorflow.keras.layers import Dense, Flatten\n",
        "from tensorflow.keras.utils import to_categorical\n",
        "import warnings\n",
        "from sklearn.metrics import classification_report, confusion_matrix"
      ],
      "metadata": {
        "id": "-eVh-WAa8dlA"
      },
      "execution_count": 3,
      "outputs": []
    },
    {
      "cell_type": "code",
      "source": [
        "warnings.filterwarnings('ignore')"
      ],
      "metadata": {
        "id": "zUpF0Uh9XJR7"
      },
      "execution_count": 4,
      "outputs": []
    },
    {
      "cell_type": "code",
      "source": [
        "digit_mnist = tf.keras.datasets.mnist\n",
        "(X_train,y_train) , (X_test,y_test) = digit_mnist.load_data()"
      ],
      "metadata": {
        "id": "XQ9jmmk589gr"
      },
      "execution_count": 23,
      "outputs": []
    },
    {
      "cell_type": "code",
      "source": [
        "X_train= X_train.astype('float32')/ 255\n",
        "X_test = X_test.astype('float32')/255\n",
        "\n",
        "y_train = to_categorical(y_train, 10)\n",
        "y_test = to_categorical(y_test, 10)"
      ],
      "metadata": {
        "id": "E-f6ujz196Sr"
      },
      "execution_count": 24,
      "outputs": []
    },
    {
      "cell_type": "code",
      "source": [
        "model = Sequential([\n",
        "    Flatten(input_shape=(28,28)),\n",
        "    Dense(128, activation='relu'),\n",
        "    Dense(256, activation='relu'),\n",
        "    Dense(10, activation='softmax')\n",
        "])\n"
      ],
      "metadata": {
        "id": "1VQY16FTWBkZ"
      },
      "execution_count": 25,
      "outputs": []
    },
    {
      "cell_type": "code",
      "source": [
        "opti = tf.keras.optimizers.Adam(learning_rate=0.001)"
      ],
      "metadata": {
        "id": "7CxRRFuVg8ZI"
      },
      "execution_count": 26,
      "outputs": []
    },
    {
      "cell_type": "code",
      "source": [
        "model.compile(\n",
        "    optimizer=opti,\n",
        "    loss='categorical_crossentropy',\n",
        "    metrics=['accuracy']\n",
        ")"
      ],
      "metadata": {
        "id": "ywE42Du-W6Ao"
      },
      "execution_count": 27,
      "outputs": []
    },
    {
      "cell_type": "code",
      "source": [
        "model.fit(\n",
        "    X_train, y_train,\n",
        "    epochs=20,\n",
        "    batch_size=32,\n",
        "    validation_data=(X_test, y_test)\n",
        ")"
      ],
      "metadata": {
        "colab": {
          "base_uri": "https://localhost:8080/"
        },
        "id": "KZfPzGvsXwNF",
        "outputId": "ffdf1f9d-9014-47e5-ee1b-d3d8550a7a1c"
      },
      "execution_count": 28,
      "outputs": [
        {
          "output_type": "stream",
          "name": "stdout",
          "text": [
            "Epoch 1/20\n",
            "\u001b[1m1875/1875\u001b[0m \u001b[32m━━━━━━━━━━━━━━━━━━━━\u001b[0m\u001b[37m\u001b[0m \u001b[1m7s\u001b[0m 3ms/step - accuracy: 0.8847 - loss: 0.3935 - val_accuracy: 0.9679 - val_loss: 0.1013\n",
            "Epoch 2/20\n",
            "\u001b[1m1875/1875\u001b[0m \u001b[32m━━━━━━━━━━━━━━━━━━━━\u001b[0m\u001b[37m\u001b[0m \u001b[1m6s\u001b[0m 3ms/step - accuracy: 0.9689 - loss: 0.0959 - val_accuracy: 0.9725 - val_loss: 0.0854\n",
            "Epoch 3/20\n",
            "\u001b[1m1875/1875\u001b[0m \u001b[32m━━━━━━━━━━━━━━━━━━━━\u001b[0m\u001b[37m\u001b[0m \u001b[1m5s\u001b[0m 3ms/step - accuracy: 0.9797 - loss: 0.0617 - val_accuracy: 0.9744 - val_loss: 0.0827\n",
            "Epoch 4/20\n",
            "\u001b[1m1875/1875\u001b[0m \u001b[32m━━━━━━━━━━━━━━━━━━━━\u001b[0m\u001b[37m\u001b[0m \u001b[1m6s\u001b[0m 3ms/step - accuracy: 0.9852 - loss: 0.0452 - val_accuracy: 0.9794 - val_loss: 0.0754\n",
            "Epoch 5/20\n",
            "\u001b[1m1875/1875\u001b[0m \u001b[32m━━━━━━━━━━━━━━━━━━━━\u001b[0m\u001b[37m\u001b[0m \u001b[1m5s\u001b[0m 3ms/step - accuracy: 0.9883 - loss: 0.0354 - val_accuracy: 0.9751 - val_loss: 0.0907\n",
            "Epoch 6/20\n",
            "\u001b[1m1875/1875\u001b[0m \u001b[32m━━━━━━━━━━━━━━━━━━━━\u001b[0m\u001b[37m\u001b[0m \u001b[1m5s\u001b[0m 3ms/step - accuracy: 0.9906 - loss: 0.0288 - val_accuracy: 0.9792 - val_loss: 0.0851\n",
            "Epoch 7/20\n",
            "\u001b[1m1875/1875\u001b[0m \u001b[32m━━━━━━━━━━━━━━━━━━━━\u001b[0m\u001b[37m\u001b[0m \u001b[1m6s\u001b[0m 3ms/step - accuracy: 0.9926 - loss: 0.0237 - val_accuracy: 0.9803 - val_loss: 0.0771\n",
            "Epoch 8/20\n",
            "\u001b[1m1875/1875\u001b[0m \u001b[32m━━━━━━━━━━━━━━━━━━━━\u001b[0m\u001b[37m\u001b[0m \u001b[1m11s\u001b[0m 3ms/step - accuracy: 0.9935 - loss: 0.0196 - val_accuracy: 0.9787 - val_loss: 0.0881\n",
            "Epoch 9/20\n",
            "\u001b[1m1875/1875\u001b[0m \u001b[32m━━━━━━━━━━━━━━━━━━━━\u001b[0m\u001b[37m\u001b[0m \u001b[1m5s\u001b[0m 3ms/step - accuracy: 0.9938 - loss: 0.0195 - val_accuracy: 0.9711 - val_loss: 0.1337\n",
            "Epoch 10/20\n",
            "\u001b[1m1875/1875\u001b[0m \u001b[32m━━━━━━━━━━━━━━━━━━━━\u001b[0m\u001b[37m\u001b[0m \u001b[1m6s\u001b[0m 3ms/step - accuracy: 0.9946 - loss: 0.0162 - val_accuracy: 0.9801 - val_loss: 0.0835\n",
            "Epoch 11/20\n",
            "\u001b[1m1875/1875\u001b[0m \u001b[32m━━━━━━━━━━━━━━━━━━━━\u001b[0m\u001b[37m\u001b[0m \u001b[1m5s\u001b[0m 3ms/step - accuracy: 0.9955 - loss: 0.0140 - val_accuracy: 0.9788 - val_loss: 0.0950\n",
            "Epoch 12/20\n",
            "\u001b[1m1875/1875\u001b[0m \u001b[32m━━━━━━━━━━━━━━━━━━━━\u001b[0m\u001b[37m\u001b[0m \u001b[1m11s\u001b[0m 3ms/step - accuracy: 0.9954 - loss: 0.0126 - val_accuracy: 0.9805 - val_loss: 0.0935\n",
            "Epoch 13/20\n",
            "\u001b[1m1875/1875\u001b[0m \u001b[32m━━━━━━━━━━━━━━━━━━━━\u001b[0m\u001b[37m\u001b[0m \u001b[1m10s\u001b[0m 3ms/step - accuracy: 0.9963 - loss: 0.0117 - val_accuracy: 0.9788 - val_loss: 0.1130\n",
            "Epoch 14/20\n",
            "\u001b[1m1875/1875\u001b[0m \u001b[32m━━━━━━━━━━━━━━━━━━━━\u001b[0m\u001b[37m\u001b[0m \u001b[1m5s\u001b[0m 3ms/step - accuracy: 0.9962 - loss: 0.0116 - val_accuracy: 0.9782 - val_loss: 0.1135\n",
            "Epoch 15/20\n",
            "\u001b[1m1875/1875\u001b[0m \u001b[32m━━━━━━━━━━━━━━━━━━━━\u001b[0m\u001b[37m\u001b[0m \u001b[1m5s\u001b[0m 3ms/step - accuracy: 0.9972 - loss: 0.0085 - val_accuracy: 0.9808 - val_loss: 0.1209\n",
            "Epoch 16/20\n",
            "\u001b[1m1875/1875\u001b[0m \u001b[32m━━━━━━━━━━━━━━━━━━━━\u001b[0m\u001b[37m\u001b[0m \u001b[1m6s\u001b[0m 3ms/step - accuracy: 0.9957 - loss: 0.0143 - val_accuracy: 0.9811 - val_loss: 0.1179\n",
            "Epoch 17/20\n",
            "\u001b[1m1875/1875\u001b[0m \u001b[32m━━━━━━━━━━━━━━━━━━━━\u001b[0m\u001b[37m\u001b[0m \u001b[1m10s\u001b[0m 3ms/step - accuracy: 0.9970 - loss: 0.0090 - val_accuracy: 0.9808 - val_loss: 0.1246\n",
            "Epoch 18/20\n",
            "\u001b[1m1875/1875\u001b[0m \u001b[32m━━━━━━━━━━━━━━━━━━━━\u001b[0m\u001b[37m\u001b[0m \u001b[1m5s\u001b[0m 3ms/step - accuracy: 0.9963 - loss: 0.0119 - val_accuracy: 0.9782 - val_loss: 0.1317\n",
            "Epoch 19/20\n",
            "\u001b[1m1875/1875\u001b[0m \u001b[32m━━━━━━━━━━━━━━━━━━━━\u001b[0m\u001b[37m\u001b[0m \u001b[1m5s\u001b[0m 3ms/step - accuracy: 0.9969 - loss: 0.0109 - val_accuracy: 0.9813 - val_loss: 0.1235\n",
            "Epoch 20/20\n",
            "\u001b[1m1875/1875\u001b[0m \u001b[32m━━━━━━━━━━━━━━━━━━━━\u001b[0m\u001b[37m\u001b[0m \u001b[1m6s\u001b[0m 3ms/step - accuracy: 0.9968 - loss: 0.0092 - val_accuracy: 0.9815 - val_loss: 0.1183\n"
          ]
        },
        {
          "output_type": "execute_result",
          "data": {
            "text/plain": [
              "<keras.src.callbacks.history.History at 0x794c5c74b150>"
            ]
          },
          "metadata": {},
          "execution_count": 28
        }
      ]
    },
    {
      "cell_type": "code",
      "source": [
        "y_prob=model.predict(X_test)\n",
        "\n",
        "y_pred = np.argmax(y_prob, axis=1)\n",
        "\n",
        "if y_test.ndim > 1 and y_test.shape[1] > 1:\n",
        "    y_test = np.argmax(y_test, axis=1)\n",
        "\n",
        "print(confusion_matrix(y_pred, y_test))\n",
        "print(classification_report(y_pred, y_test))"
      ],
      "metadata": {
        "colab": {
          "base_uri": "https://localhost:8080/"
        },
        "id": "25PkC1YQYZWQ",
        "outputId": "aca8d525-2793-4a6b-ba15-5759c6d3dc63"
      },
      "execution_count": 29,
      "outputs": [
        {
          "output_type": "stream",
          "name": "stdout",
          "text": [
            "\u001b[1m313/313\u001b[0m \u001b[32m━━━━━━━━━━━━━━━━━━━━\u001b[0m\u001b[37m\u001b[0m \u001b[1m1s\u001b[0m 2ms/step\n",
            "[[ 974    0    3    0    1    2    4    1    3    2]\n",
            " [   0 1125    3    0    1    0    2    3    0    2]\n",
            " [   0    0 1000    0    2    0    1    5    1    0]\n",
            " [   1    2   11 1004    0    7    1    1   11    3]\n",
            " [   0    0    2    0  951    1    3    0    1    6]\n",
            " [   0    1    0    1    1  875    7    0    5    1]\n",
            " [   2    0    0    0    3    2  939    0    0    0]\n",
            " [   0    1    3    3    0    2    0 1008    3    1]\n",
            " [   2    6   10    1    2    2    1    2  946    1]\n",
            " [   1    0    0    1   21    1    0    8    4  993]]\n",
            "              precision    recall  f1-score   support\n",
            "\n",
            "           0       0.99      0.98      0.99       990\n",
            "           1       0.99      0.99      0.99      1136\n",
            "           2       0.97      0.99      0.98      1009\n",
            "           3       0.99      0.96      0.98      1041\n",
            "           4       0.97      0.99      0.98       964\n",
            "           5       0.98      0.98      0.98       891\n",
            "           6       0.98      0.99      0.99       946\n",
            "           7       0.98      0.99      0.98      1021\n",
            "           8       0.97      0.97      0.97       973\n",
            "           9       0.98      0.97      0.97      1029\n",
            "\n",
            "    accuracy                           0.98     10000\n",
            "   macro avg       0.98      0.98      0.98     10000\n",
            "weighted avg       0.98      0.98      0.98     10000\n",
            "\n"
          ]
        }
      ]
    }
  ],
  "metadata": {
    "colab": {
      "provenance": [],
      "gpuType": "T4"
    },
    "kernelspec": {
      "display_name": "Python 3",
      "name": "python3"
    },
    "language_info": {
      "name": "python"
    },
    "accelerator": "GPU"
  },
  "nbformat": 4,
  "nbformat_minor": 0
}